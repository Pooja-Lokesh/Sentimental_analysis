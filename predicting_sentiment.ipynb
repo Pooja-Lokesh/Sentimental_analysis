{
  "nbformat": 4,
  "nbformat_minor": 0,
  "metadata": {
    "accelerator": "GPU",
    "colab": {
      "name": "predicting_sentiment",
      "provenance": [],
      "collapsed_sections": []
    },
    "kernelspec": {
      "display_name": "Python 3",
      "name": "python3"
    }
  },
  "cells": [
    {
      "cell_type": "markdown",
      "metadata": {
        "colab_type": "text",
        "id": "hAclqSm3OOml"
      },
      "source": [
        "# Sentiment prediction "
      ]
    },
    {
      "cell_type": "code",
      "metadata": {
        "colab_type": "code",
        "id": "L62G7LTwNzoD",
        "colab": {}
      },
      "source": [
        "# importing the libraries\n",
        "\n",
        "import tensorflow as tf\n",
        "import tensorflow_datasets as tfds\n",
        "\n",
        "import numpy as np"
      ],
      "execution_count": 28,
      "outputs": []
    },
    {
      "cell_type": "markdown",
      "metadata": {
        "colab_type": "text",
        "id": "o2P6xdtIJMyc"
      },
      "source": [
        "# Get the dataset\n"
      ]
    },
    {
      "cell_type": "code",
      "metadata": {
        "colab_type": "code",
        "id": "nCOtiRJZbxCH",
        "colab": {
          "base_uri": "https://localhost:8080/",
          "height": 139
        },
        "outputId": "67659151-70c8-40b8-cefd-37423803949c"
      },
      "source": [
        "# Get the dataset.\n",
        "\n",
        "dataset, info = tfds.load('glue/sst2', with_info=True)\n",
        "print(info.features)\n",
        "print(info.features[\"label\"].num_classes)\n",
        "print(info.features[\"label\"].names)\n"
      ],
      "execution_count": 29,
      "outputs": [
        {
          "output_type": "stream",
          "text": [
            "FeaturesDict({\n",
            "    'idx': tf.int32,\n",
            "    'label': ClassLabel(shape=(), dtype=tf.int64, num_classes=2),\n",
            "    'sentence': Text(shape=(), dtype=tf.string),\n",
            "})\n",
            "2\n",
            "['negative', 'positive']\n"
          ],
          "name": "stdout"
        }
      ]
    },
    {
      "cell_type": "code",
      "metadata": {
        "colab_type": "code",
        "id": "yBMPhIdStAe2",
        "colab": {
          "base_uri": "https://localhost:8080/",
          "height": 35
        },
        "outputId": "6cae098c-c934-4a30-dd71-0b59ff77266a"
      },
      "source": [
        "# Get the training and validation datasets\n",
        "\n",
        "dataset_train, dataset_validation = dataset['train'], dataset['validation']\n",
        "dataset_train"
      ],
      "execution_count": 30,
      "outputs": [
        {
          "output_type": "execute_result",
          "data": {
            "text/plain": [
              "<DatasetV1Adapter shapes: {idx: (), label: (), sentence: ()}, types: {idx: tf.int32, label: tf.int64, sentence: tf.string}>"
            ]
          },
          "metadata": {
            "tags": []
          },
          "execution_count": 30
        }
      ]
    },
    {
      "cell_type": "code",
      "metadata": {
        "colab_type": "code",
        "id": "jbZ-faiNWu1U",
        "colab": {
          "base_uri": "https://localhost:8080/",
          "height": 121
        },
        "outputId": "31e99931-b3ed-453b-cc54-9b98c3536599"
      },
      "source": [
        "# Print some of the entries\n",
        "\n",
        "for example in dataset_train.take(2):  \n",
        "  review, label = example[\"sentence\"], example[\"label\"]\n",
        "  print(\"Review:\", review)\n",
        "  print(\"Label: %d \\n\" % label.numpy())"
      ],
      "execution_count": 31,
      "outputs": [
        {
          "output_type": "stream",
          "text": [
            "Review: tf.Tensor(b'for the uninitiated plays better on video with the sound ', shape=(), dtype=string)\n",
            "Label: 0 \n",
            "\n",
            "Review: tf.Tensor(b'like a giant commercial for universal studios , where much of the action takes place ', shape=(), dtype=string)\n",
            "Label: 0 \n",
            "\n"
          ],
          "name": "stdout"
        }
      ]
    },
    {
      "cell_type": "code",
      "metadata": {
        "colab_type": "code",
        "id": "_fVZItTeZSbL",
        "colab": {
          "base_uri": "https://localhost:8080/",
          "height": 245
        },
        "outputId": "37848231-5be7-4d74-c053-ea91fee47dde"
      },
      "source": [
        "# Get the sentences and the labels\n",
        "# for both the training and the validation sets\n",
        "\n",
        "training_reviews = []\n",
        "training_labels = []\n",
        " \n",
        "validation_reviews = []\n",
        "validation_labels = []\n",
        "\n",
        "# Get training data\n",
        "\n",
        "for item in dataset_train.take(-1):\n",
        "  review, label = item[\"sentence\"], item[\"label\"]\n",
        "  training_reviews.append(str(review.numpy()))\n",
        "  training_labels.append(label.numpy())\n",
        "\n",
        "print (\"\\nNumber of training reviews is: \", len(training_reviews))\n",
        "\n",
        "# print some of the reviews and labels\n",
        "for i in range(0, 2):\n",
        "  print (training_reviews[i])\n",
        "  print (training_labels[i])\n",
        "\n",
        "# Get the validation data\n",
        "\n",
        "for item in dataset_validation.take(-1):  \n",
        "  review, label = item[\"sentence\"], item[\"label\"]\n",
        "  validation_reviews.append(str(review.numpy()))\n",
        "  validation_labels.append(label.numpy())\n",
        "\n",
        "print (\"\\nNumber of validation reviews is: \", len(validation_reviews))\n",
        "\n",
        "# Print some of the validation reviews and labels\n",
        "for i in range(0, 2):\n",
        "  print (validation_reviews[i])\n",
        "  print (validation_labels[i])\n"
      ],
      "execution_count": 32,
      "outputs": [
        {
          "output_type": "stream",
          "text": [
            "\n",
            "Number of training reviews is:  67349\n",
            "b'for the uninitiated plays better on video with the sound '\n",
            "0\n",
            "b'like a giant commercial for universal studios , where much of the action takes place '\n",
            "0\n",
            "\n",
            "Number of validation reviews is:  872\n",
            "b'a valueless kiddie paean to pro basketball underwritten by the nba . '\n",
            "0\n",
            "b\"featuring a dangerously seductive performance from the great daniel auteuil , `` sade '' covers the same period as kaufmann 's `` quills '' with more unsettlingly realistic results . \"\n",
            "1\n"
          ],
          "name": "stdout"
        }
      ]
    },
    {
      "cell_type": "markdown",
      "metadata": {
        "colab_type": "text",
        "id": "BY4ZoptJO55o"
      },
      "source": [
        "# Tokenize the words and sequence the sentences\n"
      ]
    },
    {
      "cell_type": "code",
      "metadata": {
        "colab_type": "code",
        "id": "0TWLvXA1Oa_W",
        "colab": {}
      },
      "source": [
        "# Tokenization and sequencing the sentences \n",
        "\n",
        "vocab_size = 4000\n",
        "embedding_dim = 16\n",
        "max_length = 50\n",
        "trunc_type='post'\n",
        "pad_type='post'\n",
        "oov_tok = \"<OOV>\"\n",
        "\n",
        "from tensorflow.keras.preprocessing.text import Tokenizer\n",
        "from tensorflow.keras.preprocessing.sequence import pad_sequences\n",
        "\n",
        "tokenizer = Tokenizer(num_words = vocab_size, oov_token=oov_tok)\n",
        "tokenizer.fit_on_texts(training_reviews)\n",
        "word_index = tokenizer.word_index\n"
      ],
      "execution_count": 33,
      "outputs": []
    },
    {
      "cell_type": "markdown",
      "metadata": {
        "colab_type": "text",
        "id": "JV-Ff5N0ryWv"
      },
      "source": [
        "# Pad the sequences"
      ]
    },
    {
      "cell_type": "code",
      "metadata": {
        "colab_type": "code",
        "id": "B-3scEznH2Va",
        "colab": {}
      },
      "source": [
        "# Pad the sequences so that they are all the same length\n",
        "\n",
        "# padding trainig data\n",
        "training_sequences = tokenizer.texts_to_sequences(training_reviews)\n",
        "training_padded = pad_sequences(training_sequences,maxlen=max_length, \n",
        "                                truncating=trunc_type, padding=pad_type)\n",
        "\n",
        "# padding validation data\n",
        "validation_sequences = tokenizer.texts_to_sequences(validation_reviews)\n",
        "validation_padded = pad_sequences(validation_sequences,maxlen=max_length)\n",
        "\n",
        "# converting them to a numpy array \n",
        "training_labels_final = np.array(training_labels)\n",
        "validation_labels_final = np.array(validation_labels)"
      ],
      "execution_count": 34,
      "outputs": []
    },
    {
      "cell_type": "markdown",
      "metadata": {
        "colab_type": "text",
        "id": "PahZm7YEQ8EI"
      },
      "source": [
        "# Create the model using an Embedding"
      ]
    },
    {
      "cell_type": "code",
      "metadata": {
        "colab_type": "code",
        "id": "c_nyQeI0RCCv",
        "colab": {
          "base_uri": "https://localhost:8080/",
          "height": 260
        },
        "outputId": "15f00546-7105-4e4d-fba0-0e50007e7fea"
      },
      "source": [
        "model = tf.keras.Sequential([\n",
        "    tf.keras.layers.Embedding(vocab_size, embedding_dim, input_length=max_length),\n",
        "    tf.keras.layers.GlobalAveragePooling1D(),  \n",
        "    tf.keras.layers.Dense(1, activation='sigmoid')\n",
        "])\n",
        "model.compile(loss='binary_crossentropy',optimizer='adam',metrics=['accuracy'])\n",
        "model.summary()"
      ],
      "execution_count": 35,
      "outputs": [
        {
          "output_type": "stream",
          "text": [
            "Model: \"sequential_5\"\n",
            "_________________________________________________________________\n",
            "Layer (type)                 Output Shape              Param #   \n",
            "=================================================================\n",
            "embedding_5 (Embedding)      (None, 50, 16)            64000     \n",
            "_________________________________________________________________\n",
            "global_average_pooling1d_1 ( (None, 16)                0         \n",
            "_________________________________________________________________\n",
            "dense_5 (Dense)              (None, 1)                 17        \n",
            "=================================================================\n",
            "Total params: 64,017\n",
            "Trainable params: 64,017\n",
            "Non-trainable params: 0\n",
            "_________________________________________________________________\n"
          ],
          "name": "stdout"
        }
      ]
    },
    {
      "cell_type": "markdown",
      "metadata": {
        "colab_type": "text",
        "id": "3WRXrx8BRO2L"
      },
      "source": [
        "# Train the model"
      ]
    },
    {
      "cell_type": "code",
      "metadata": {
        "colab_type": "code",
        "id": "oBKyVYvxRQ_9",
        "colab": {
          "base_uri": "https://localhost:8080/",
          "height": 711
        },
        "outputId": "9f73e293-5ae9-4756-f1c1-75952cf83796"
      },
      "source": [
        "num_epochs = 20\n",
        "history = model.fit(training_padded, training_labels_final, epochs=num_epochs, \n",
        "                    validation_data=(validation_padded, validation_labels_final))\n"
      ],
      "execution_count": 36,
      "outputs": [
        {
          "output_type": "stream",
          "text": [
            "Epoch 1/20\n",
            "2105/2105 [==============================] - 7s 3ms/step - loss: 0.6368 - accuracy: 0.6300 - val_loss: 0.5403 - val_accuracy: 0.7385\n",
            "Epoch 2/20\n",
            "2105/2105 [==============================] - 7s 3ms/step - loss: 0.4960 - accuracy: 0.7735 - val_loss: 0.4548 - val_accuracy: 0.8016\n",
            "Epoch 3/20\n",
            "2105/2105 [==============================] - 7s 3ms/step - loss: 0.4147 - accuracy: 0.8141 - val_loss: 0.4542 - val_accuracy: 0.8050\n",
            "Epoch 4/20\n",
            "2105/2105 [==============================] - 7s 3ms/step - loss: 0.3738 - accuracy: 0.8289 - val_loss: 0.4695 - val_accuracy: 0.8005\n",
            "Epoch 5/20\n",
            "2105/2105 [==============================] - 7s 3ms/step - loss: 0.3513 - accuracy: 0.8367 - val_loss: 0.4991 - val_accuracy: 0.7970\n",
            "Epoch 6/20\n",
            "2105/2105 [==============================] - 7s 3ms/step - loss: 0.3374 - accuracy: 0.8414 - val_loss: 0.5231 - val_accuracy: 0.7947\n",
            "Epoch 7/20\n",
            "2105/2105 [==============================] - 7s 3ms/step - loss: 0.3287 - accuracy: 0.8433 - val_loss: 0.5424 - val_accuracy: 0.8005\n",
            "Epoch 8/20\n",
            "2105/2105 [==============================] - 7s 3ms/step - loss: 0.3227 - accuracy: 0.8458 - val_loss: 0.5673 - val_accuracy: 0.7924\n",
            "Epoch 9/20\n",
            "2105/2105 [==============================] - 7s 3ms/step - loss: 0.3182 - accuracy: 0.8476 - val_loss: 0.5864 - val_accuracy: 0.7913\n",
            "Epoch 10/20\n",
            "2105/2105 [==============================] - 7s 3ms/step - loss: 0.3148 - accuracy: 0.8493 - val_loss: 0.6053 - val_accuracy: 0.7970\n",
            "Epoch 11/20\n",
            "2105/2105 [==============================] - 7s 3ms/step - loss: 0.3120 - accuracy: 0.8488 - val_loss: 0.6222 - val_accuracy: 0.7890\n",
            "Epoch 12/20\n",
            "2105/2105 [==============================] - 7s 3ms/step - loss: 0.3101 - accuracy: 0.8505 - val_loss: 0.6363 - val_accuracy: 0.7913\n",
            "Epoch 13/20\n",
            "2105/2105 [==============================] - 7s 3ms/step - loss: 0.3087 - accuracy: 0.8511 - val_loss: 0.6476 - val_accuracy: 0.7856\n",
            "Epoch 14/20\n",
            "2105/2105 [==============================] - 8s 4ms/step - loss: 0.3076 - accuracy: 0.8517 - val_loss: 0.6626 - val_accuracy: 0.7867\n",
            "Epoch 15/20\n",
            "2105/2105 [==============================] - 7s 3ms/step - loss: 0.3064 - accuracy: 0.8518 - val_loss: 0.6762 - val_accuracy: 0.7856\n",
            "Epoch 16/20\n",
            "2105/2105 [==============================] - 7s 3ms/step - loss: 0.3052 - accuracy: 0.8530 - val_loss: 0.6863 - val_accuracy: 0.7844\n",
            "Epoch 17/20\n",
            "2105/2105 [==============================] - 7s 4ms/step - loss: 0.3045 - accuracy: 0.8533 - val_loss: 0.6987 - val_accuracy: 0.7764\n",
            "Epoch 18/20\n",
            "2105/2105 [==============================] - 7s 3ms/step - loss: 0.3035 - accuracy: 0.8534 - val_loss: 0.7131 - val_accuracy: 0.7787\n",
            "Epoch 19/20\n",
            "2105/2105 [==============================] - 8s 4ms/step - loss: 0.3034 - accuracy: 0.8533 - val_loss: 0.7175 - val_accuracy: 0.7833\n",
            "Epoch 20/20\n",
            "2105/2105 [==============================] - 8s 4ms/step - loss: 0.3028 - accuracy: 0.8534 - val_loss: 0.7273 - val_accuracy: 0.7798\n"
          ],
          "name": "stdout"
        }
      ]
    },
    {
      "cell_type": "markdown",
      "metadata": {
        "colab_type": "text",
        "id": "HhLPbUl2AZ0y"
      },
      "source": [
        "# Plot the accurracy and loss"
      ]
    },
    {
      "cell_type": "code",
      "metadata": {
        "colab_type": "code",
        "id": "jzBM1PpJAYfD",
        "colab": {
          "base_uri": "https://localhost:8080/",
          "height": 541
        },
        "outputId": "7e407bea-196c-49b2-f2ee-e429521729d6"
      },
      "source": [
        "import matplotlib.pyplot as plt\n",
        "\n",
        "\n",
        "def plot_graphs(history, string):\n",
        "  plt.plot(history.history[string])\n",
        "  plt.plot(history.history['val_'+string])\n",
        "  plt.xlabel(\"Epochs\")\n",
        "  plt.ylabel(string)\n",
        "  plt.legend([string, 'val_'+string])\n",
        "  plt.show()\n",
        "  \n",
        "plot_graphs(history, \"accuracy\")\n",
        "plot_graphs(history, \"loss\")"
      ],
      "execution_count": 37,
      "outputs": [
        {
          "output_type": "display_data",
          "data": {
            "image/png": "[encoded data removed]",
            "text/plain": [
              "<Figure size 432x288 with 1 Axes>"
            ]
          },
          "metadata": {
            "tags": [],
            "needs_background": "light"
          }
        },
        {
          "output_type": "display_data",
          "data": {
            "image/png": "[encoded data removed]",
            "text/plain": [
              "<Figure size 432x288 with 1 Axes>"
            ]
          },
          "metadata": {
            "tags": [],
            "needs_background": "light"
          }
        }
      ]
    },
    {
      "cell_type": "markdown",
      "metadata": {
        "colab_type": "text",
        "id": "HEbcMCVEKToB"
      },
      "source": [
        "# Write a function to predict the sentiment of reviews"
      ]
    },
    {
      "cell_type": "code",
      "metadata": {
        "colab_type": "code",
        "id": "K0nKY9M4xzWE",
        "colab": {}
      },
      "source": [
        "# Write some new reviews \n",
        "\n",
        "review1 = \"\"\"I loved the other movie more than this\"\"\"\n",
        "\n",
        "review2 = \"\"\"that was the best movie I've ever seen\"\"\"\n",
        "\n",
        "review3 = \"\"\"too much of nonsense even for a comedy film\"\"\"\n",
        "\n",
        "review4 = \"\"\"too emotional for an action movie\"\"\"\n",
        "\n",
        "new_reviews = [review1, review2, review3, review4]\n"
      ],
      "execution_count": 38,
      "outputs": []
    },
    {
      "cell_type": "code",
      "metadata": {
        "colab_type": "code",
        "id": "Qg-maex27KPW",
        "colab": {
          "base_uri": "https://localhost:8080/",
          "height": 295
        },
        "outputId": "120bac09-a15b-414f-bbf3-2ff4cbae66ad"
      },
      "source": [
        "# Define a function to prepare the new reviews for use with a model\n",
        "# and then use the model to predict the sentiment of the new reviews           \n",
        "\n",
        "def predict_review(model, reviews):\n",
        "  \n",
        "  padding_type='post'\n",
        "  sample_sequences = tokenizer.texts_to_sequences(reviews)\n",
        "  reviews_padded = pad_sequences(sample_sequences, padding=padding_type, \n",
        "                                 maxlen=max_length) \n",
        "  classes = model.predict(reviews_padded)\n",
        "  for x in range(len(reviews_padded)):\n",
        "    print(reviews[x])\n",
        "    print(classes[x])\n",
        "    print('\\n')\n",
        "\n",
        "predict_review(model, new_reviews)\n"
      ],
      "execution_count": 39,
      "outputs": [
        {
          "output_type": "stream",
          "text": [
            "I loved the other movie more than this\n",
            "[0.89170784]\n",
            "\n",
            "\n",
            "that was the best movie I've ever seen\n",
            "[0.9148315]\n",
            "\n",
            "\n",
            "too much of nonsense even for a comedy film\n",
            "[0.04570353]\n",
            "\n",
            "\n",
            "too emotional for an action movie\n",
            "[0.09362598]\n",
            "\n",
            "\n"
          ],
          "name": "stdout"
        }
      ]
    },
    {
      "cell_type": "markdown",
      "metadata": {
        "colab_type": "text",
        "id": "ycJKbMq3K4iy"
      },
      "source": [
        "# Define a function to train and show the results of models with different layers"
      ]
    },
    {
      "cell_type": "code",
      "metadata": {
        "colab_type": "code",
        "id": "PevUcINXK3gn",
        "colab": {}
      },
      "source": [
        "def fit_model_and_show_results (model, reviews):\n",
        "  model.summary()\n",
        "  history = model.fit(training_padded, training_labels_final, epochs=num_epochs, \n",
        "                      validation_data=(validation_padded, validation_labels_final))\n",
        "  plot_graphs(history, \"accuracy\")\n",
        "  plot_graphs(history, \"loss\")\n",
        "  predict_review(model, reviews)"
      ],
      "execution_count": 40,
      "outputs": []
    },
    {
      "cell_type": "markdown",
      "metadata": {
        "colab_type": "text",
        "id": "W8jW-OLfTrDM"
      },
      "source": [
        "# Use a CNN"
      ]
    },
    {
      "cell_type": "code",
      "metadata": {
        "colab_type": "code",
        "id": "merAu9T3TtmQ",
        "colab": {
          "base_uri": "https://localhost:8080/",
          "height": 1000
        },
        "outputId": "2a97a5b8-adc1-490c-eadc-cd48785de59f"
      },
      "source": [
        "num_epochs = 30\n",
        "\n",
        "model_cnn = tf.keras.Sequential([\n",
        "    tf.keras.layers.Embedding(vocab_size, embedding_dim, input_length=max_length),\n",
        "    tf.keras.layers.Conv1D(16, 5, activation='relu'),\n",
        "    tf.keras.layers.GlobalMaxPooling1D(),\n",
        "    tf.keras.layers.Dense(1, activation='sigmoid')\n",
        "])\n",
        "\n",
        "# Default learning rate for the Adam optimizer is 0.001\n",
        "# Let's slow down the learning rate by 10.\n",
        "learning_rate = 0.0001\n",
        "model_cnn.compile(loss='binary_crossentropy',\n",
        "                  optimizer=tf.keras.optimizers.Adam(learning_rate), \n",
        "                  metrics=['accuracy'])\n",
        "\n",
        "fit_model_and_show_results(model_cnn, new_reviews)"
      ],
      "execution_count": 41,
      "outputs": [
        {
          "output_type": "stream",
          "text": [
            "Model: \"sequential_6\"\n",
            "_________________________________________________________________\n",
            "Layer (type)                 Output Shape              Param #   \n",
            "=================================================================\n",
            "embedding_6 (Embedding)      (None, 50, 16)            64000     \n",
            "_________________________________________________________________\n",
            "conv1d_1 (Conv1D)            (None, 46, 16)            1296      \n",
            "_________________________________________________________________\n",
            "global_max_pooling1d_1 (Glob (None, 16)                0         \n",
            "_________________________________________________________________\n",
            "dense_6 (Dense)              (None, 1)                 17        \n",
            "=================================================================\n",
            "Total params: 65,313\n",
            "Trainable params: 65,313\n",
            "Non-trainable params: 0\n",
            "_________________________________________________________________\n",
            "Epoch 1/30\n",
            "2105/2105 [==============================] - 8s 4ms/step - loss: 0.6752 - accuracy: 0.5723 - val_loss: 0.6650 - val_accuracy: 0.6858\n",
            "Epoch 2/30\n",
            "2105/2105 [==============================] - 8s 4ms/step - loss: 0.5797 - accuracy: 0.7242 - val_loss: 0.5374 - val_accuracy: 0.7626\n",
            "Epoch 3/30\n",
            "2105/2105 [==============================] - 8s 4ms/step - loss: 0.4436 - accuracy: 0.8041 - val_loss: 0.4614 - val_accuracy: 0.7901\n",
            "Epoch 4/30\n",
            "2105/2105 [==============================] - 8s 4ms/step - loss: 0.3741 - accuracy: 0.8299 - val_loss: 0.4486 - val_accuracy: 0.7947\n",
            "Epoch 5/30\n",
            "2105/2105 [==============================] - 8s 4ms/step - loss: 0.3405 - accuracy: 0.8425 - val_loss: 0.4587 - val_accuracy: 0.7913\n",
            "Epoch 6/30\n",
            "2105/2105 [==============================] - 8s 4ms/step - loss: 0.3207 - accuracy: 0.8498 - val_loss: 0.4757 - val_accuracy: 0.7878\n",
            "Epoch 7/30\n",
            "2105/2105 [==============================] - 8s 4ms/step - loss: 0.3072 - accuracy: 0.8558 - val_loss: 0.4947 - val_accuracy: 0.7833\n",
            "Epoch 8/30\n",
            "2105/2105 [==============================] - 8s 4ms/step - loss: 0.2971 - accuracy: 0.8605 - val_loss: 0.5138 - val_accuracy: 0.7787\n",
            "Epoch 9/30\n",
            "2105/2105 [==============================] - 8s 4ms/step - loss: 0.2888 - accuracy: 0.8651 - val_loss: 0.5311 - val_accuracy: 0.7741\n",
            "Epoch 10/30\n",
            "2105/2105 [==============================] - 8s 4ms/step - loss: 0.2817 - accuracy: 0.8676 - val_loss: 0.5471 - val_accuracy: 0.7729\n",
            "Epoch 11/30\n",
            "2105/2105 [==============================] - 8s 4ms/step - loss: 0.2755 - accuracy: 0.8698 - val_loss: 0.5634 - val_accuracy: 0.7718\n",
            "Epoch 12/30\n",
            "2105/2105 [==============================] - 8s 4ms/step - loss: 0.2698 - accuracy: 0.8723 - val_loss: 0.5786 - val_accuracy: 0.7729\n",
            "Epoch 13/30\n",
            "2105/2105 [==============================] - 8s 4ms/step - loss: 0.2643 - accuracy: 0.8752 - val_loss: 0.5955 - val_accuracy: 0.7718\n",
            "Epoch 14/30\n",
            "2105/2105 [==============================] - 8s 4ms/step - loss: 0.2593 - accuracy: 0.8777 - val_loss: 0.6099 - val_accuracy: 0.7695\n",
            "Epoch 15/30\n",
            "2105/2105 [==============================] - 8s 4ms/step - loss: 0.2544 - accuracy: 0.8798 - val_loss: 0.6266 - val_accuracy: 0.7672\n",
            "Epoch 16/30\n",
            "2105/2105 [==============================] - 8s 4ms/step - loss: 0.2497 - accuracy: 0.8810 - val_loss: 0.6423 - val_accuracy: 0.7649\n",
            "Epoch 17/30\n",
            "2105/2105 [==============================] - 8s 4ms/step - loss: 0.2453 - accuracy: 0.8843 - val_loss: 0.6597 - val_accuracy: 0.7683\n",
            "Epoch 18/30\n",
            "2105/2105 [==============================] - 8s 4ms/step - loss: 0.2409 - accuracy: 0.8845 - val_loss: 0.6761 - val_accuracy: 0.7638\n",
            "Epoch 19/30\n",
            "2105/2105 [==============================] - 8s 4ms/step - loss: 0.2368 - accuracy: 0.8872 - val_loss: 0.6937 - val_accuracy: 0.7695\n",
            "Epoch 20/30\n",
            "2105/2105 [==============================] - 8s 4ms/step - loss: 0.2327 - accuracy: 0.8883 - val_loss: 0.7126 - val_accuracy: 0.7718\n",
            "Epoch 21/30\n",
            "2105/2105 [==============================] - 8s 4ms/step - loss: 0.2289 - accuracy: 0.8902 - val_loss: 0.7319 - val_accuracy: 0.7683\n",
            "Epoch 22/30\n",
            "2105/2105 [==============================] - 8s 4ms/step - loss: 0.2250 - accuracy: 0.8922 - val_loss: 0.7491 - val_accuracy: 0.7649\n",
            "Epoch 23/30\n",
            "2105/2105 [==============================] - 8s 4ms/step - loss: 0.2215 - accuracy: 0.8934 - val_loss: 0.7700 - val_accuracy: 0.7580\n",
            "Epoch 24/30\n",
            "2105/2105 [==============================] - 8s 4ms/step - loss: 0.2180 - accuracy: 0.8961 - val_loss: 0.7887 - val_accuracy: 0.7626\n",
            "Epoch 25/30\n",
            "2105/2105 [==============================] - 8s 4ms/step - loss: 0.2145 - accuracy: 0.8985 - val_loss: 0.8054 - val_accuracy: 0.7626\n",
            "Epoch 26/30\n",
            "2105/2105 [==============================] - 8s 4ms/step - loss: 0.2114 - accuracy: 0.8979 - val_loss: 0.8262 - val_accuracy: 0.7638\n",
            "Epoch 27/30\n",
            "2105/2105 [==============================] - 8s 4ms/step - loss: 0.2084 - accuracy: 0.9000 - val_loss: 0.8425 - val_accuracy: 0.7626\n",
            "Epoch 28/30\n",
            "2105/2105 [==============================] - 8s 4ms/step - loss: 0.2055 - accuracy: 0.8997 - val_loss: 0.8638 - val_accuracy: 0.7592\n",
            "Epoch 29/30\n",
            "2105/2105 [==============================] - 8s 4ms/step - loss: 0.2026 - accuracy: 0.9013 - val_loss: 0.8823 - val_accuracy: 0.7626\n",
            "Epoch 30/30\n",
            "2105/2105 [==============================] - 8s 4ms/step - loss: 0.1999 - accuracy: 0.9025 - val_loss: 0.9022 - val_accuracy: 0.7569\n"
          ],
          "name": "stdout"
        },
        {
          "output_type": "display_data",
          "data": {
            "image/png": "[encoded data removed]",
            "text/plain": [
              "<Figure size 432x288 with 1 Axes>"
            ]
          },
          "metadata": {
            "tags": [],
            "needs_background": "light"
          }
        },
        {
          "output_type": "display_data",
          "data": {
            "image/png": "[encoded data removed]",
            "text/plain": [
              "<Figure size 432x288 with 1 Axes>"
            ]
          },
          "metadata": {
            "tags": [],
            "needs_background": "light"
          }
        },
        {
          "output_type": "stream",
          "text": [
            "I loved the other movie more than this\n",
            "[0.93728733]\n",
            "\n",
            "\n",
            "that was the best movie I've ever seen\n",
            "[0.96665144]\n",
            "\n",
            "\n",
            "too much of nonsense even for a comedy film\n",
            "[0.11486857]\n",
            "\n",
            "\n",
            "too emotional for an action movie\n",
            "[0.08074392]\n",
            "\n",
            "\n"
          ],
          "name": "stdout"
        }
      ]
    },
    {
      "cell_type": "markdown",
      "metadata": {
        "colab_type": "text",
        "id": "tXnoq0zITmSM"
      },
      "source": [
        "# Use a GRU"
      ]
    },
    {
      "cell_type": "code",
      "metadata": {
        "colab_type": "code",
        "id": "6jP6KAzZTpQ6",
        "colab": {
          "base_uri": "https://localhost:8080/",
          "height": 1000
        },
        "outputId": "468d2354-3d5f-4169-ef7e-6b77fa38c2a2"
      },
      "source": [
        "num_epochs = 30\n",
        "\n",
        "model_gru = tf.keras.Sequential([\n",
        "    tf.keras.layers.Embedding(vocab_size, embedding_dim, input_length=max_length),\n",
        "    tf.keras.layers.Bidirectional(tf.keras.layers.GRU(32)),\n",
        "    tf.keras.layers.Dense(1, activation='sigmoid')\n",
        "])\n",
        "\n",
        "learning_rate = 0.00003 # slower than the default learning rate\n",
        "model_gru.compile(loss='binary_crossentropy',\n",
        "                  optimizer=tf.keras.optimizers.Adam(learning_rate),\n",
        "                  metrics=['accuracy'])\n",
        "\n",
        "fit_model_and_show_results(model_gru, new_reviews)"
      ],
      "execution_count": 42,
      "outputs": [
        {
          "output_type": "stream",
          "text": [
            "Model: \"sequential_7\"\n",
            "_________________________________________________________________\n",
            "Layer (type)                 Output Shape              Param #   \n",
            "=================================================================\n",
            "embedding_7 (Embedding)      (None, 50, 16)            64000     \n",
            "_________________________________________________________________\n",
            "bidirectional_4 (Bidirection (None, 64)                9600      \n",
            "_________________________________________________________________\n",
            "dense_7 (Dense)              (None, 1)                 65        \n",
            "=================================================================\n",
            "Total params: 73,665\n",
            "Trainable params: 73,665\n",
            "Non-trainable params: 0\n",
            "_________________________________________________________________\n",
            "Epoch 1/30\n",
            "2105/2105 [==============================] - 18s 9ms/step - loss: 0.6850 - accuracy: 0.5578 - val_loss: 0.6974 - val_accuracy: 0.5092\n",
            "Epoch 2/30\n",
            "2105/2105 [==============================] - 18s 8ms/step - loss: 0.6401 - accuracy: 0.6099 - val_loss: 0.6113 - val_accuracy: 0.6307\n",
            "Epoch 3/30\n",
            "2105/2105 [==============================] - 18s 8ms/step - loss: 0.5491 - accuracy: 0.7149 - val_loss: 0.5912 - val_accuracy: 0.7443\n",
            "Epoch 4/30\n",
            "2105/2105 [==============================] - 18s 9ms/step - loss: 0.4867 - accuracy: 0.7683 - val_loss: 0.5494 - val_accuracy: 0.7695\n",
            "Epoch 5/30\n",
            "2105/2105 [==============================] - 18s 8ms/step - loss: 0.4463 - accuracy: 0.7943 - val_loss: 0.5722 - val_accuracy: 0.7775\n",
            "Epoch 6/30\n",
            "2105/2105 [==============================] - 17s 8ms/step - loss: 0.4177 - accuracy: 0.8093 - val_loss: 0.5697 - val_accuracy: 0.7867\n",
            "Epoch 7/30\n",
            "2105/2105 [==============================] - 18s 8ms/step - loss: 0.3951 - accuracy: 0.8189 - val_loss: 0.5695 - val_accuracy: 0.7867\n",
            "Epoch 8/30\n",
            "2105/2105 [==============================] - 17s 8ms/step - loss: 0.3780 - accuracy: 0.8268 - val_loss: 0.6126 - val_accuracy: 0.7661\n",
            "Epoch 9/30\n",
            "2105/2105 [==============================] - 18s 8ms/step - loss: 0.3632 - accuracy: 0.8324 - val_loss: 0.6188 - val_accuracy: 0.7947\n",
            "Epoch 10/30\n",
            "2105/2105 [==============================] - 18s 8ms/step - loss: 0.3520 - accuracy: 0.8362 - val_loss: 0.6150 - val_accuracy: 0.7878\n",
            "Epoch 11/30\n",
            "2105/2105 [==============================] - 17s 8ms/step - loss: 0.3421 - accuracy: 0.8394 - val_loss: 0.6343 - val_accuracy: 0.7856\n",
            "Epoch 12/30\n",
            "2105/2105 [==============================] - 17s 8ms/step - loss: 0.3346 - accuracy: 0.8415 - val_loss: 0.6229 - val_accuracy: 0.7672\n",
            "Epoch 13/30\n",
            "2105/2105 [==============================] - 17s 8ms/step - loss: 0.3288 - accuracy: 0.8442 - val_loss: 0.6058 - val_accuracy: 0.7362\n",
            "Epoch 14/30\n",
            "2105/2105 [==============================] - 17s 8ms/step - loss: 0.3239 - accuracy: 0.8460 - val_loss: 0.6390 - val_accuracy: 0.7626\n",
            "Epoch 15/30\n",
            "2105/2105 [==============================] - 17s 8ms/step - loss: 0.3197 - accuracy: 0.8473 - val_loss: 0.6429 - val_accuracy: 0.7546\n",
            "Epoch 16/30\n",
            "2105/2105 [==============================] - 18s 8ms/step - loss: 0.3164 - accuracy: 0.8500 - val_loss: 0.6222 - val_accuracy: 0.7236\n",
            "Epoch 17/30\n",
            "2105/2105 [==============================] - 17s 8ms/step - loss: 0.3135 - accuracy: 0.8501 - val_loss: 0.6535 - val_accuracy: 0.7420\n",
            "Epoch 18/30\n",
            "2105/2105 [==============================] - 17s 8ms/step - loss: 0.3109 - accuracy: 0.8520 - val_loss: 0.6987 - val_accuracy: 0.7856\n",
            "Epoch 19/30\n",
            "2105/2105 [==============================] - 18s 8ms/step - loss: 0.3088 - accuracy: 0.8534 - val_loss: 0.6998 - val_accuracy: 0.7878\n",
            "Epoch 20/30\n",
            "2105/2105 [==============================] - 18s 9ms/step - loss: 0.3066 - accuracy: 0.8536 - val_loss: 0.6779 - val_accuracy: 0.7328\n",
            "Epoch 21/30\n",
            "2105/2105 [==============================] - 18s 9ms/step - loss: 0.3049 - accuracy: 0.8544 - val_loss: 0.7043 - val_accuracy: 0.7385\n",
            "Epoch 22/30\n",
            "2105/2105 [==============================] - 18s 8ms/step - loss: 0.3037 - accuracy: 0.8557 - val_loss: 0.7171 - val_accuracy: 0.7454\n",
            "Epoch 23/30\n",
            "2105/2105 [==============================] - 18s 9ms/step - loss: 0.3021 - accuracy: 0.8563 - val_loss: 0.7449 - val_accuracy: 0.6869\n",
            "Epoch 24/30\n",
            "2105/2105 [==============================] - 18s 8ms/step - loss: 0.3006 - accuracy: 0.8566 - val_loss: 0.7654 - val_accuracy: 0.7878\n",
            "Epoch 25/30\n",
            "2105/2105 [==============================] - 18s 9ms/step - loss: 0.2997 - accuracy: 0.8567 - val_loss: 0.6662 - val_accuracy: 0.7156\n",
            "Epoch 26/30\n",
            "2105/2105 [==============================] - 17s 8ms/step - loss: 0.2988 - accuracy: 0.8571 - val_loss: 0.7230 - val_accuracy: 0.7672\n",
            "Epoch 27/30\n",
            "2105/2105 [==============================] - 17s 8ms/step - loss: 0.2977 - accuracy: 0.8583 - val_loss: 0.7248 - val_accuracy: 0.7500\n",
            "Epoch 28/30\n",
            "2105/2105 [==============================] - 18s 8ms/step - loss: 0.2968 - accuracy: 0.8579 - val_loss: 0.7305 - val_accuracy: 0.7683\n",
            "Epoch 29/30\n",
            "2105/2105 [==============================] - 18s 8ms/step - loss: 0.2961 - accuracy: 0.8586 - val_loss: 0.7133 - val_accuracy: 0.7236\n",
            "Epoch 30/30\n",
            "2105/2105 [==============================] - 18s 8ms/step - loss: 0.2956 - accuracy: 0.8590 - val_loss: 0.7403 - val_accuracy: 0.7638\n"
          ],
          "name": "stdout"
        },
        {
          "output_type": "display_data",
          "data": {
            "image/png": "[encoded data removed]",
            "text/plain": [
              "<Figure size 432x288 with 1 Axes>"
            ]
          },
          "metadata": {
            "tags": [],
            "needs_background": "light"
          }
        },
        {
          "output_type": "display_data",
          "data": {
            "image/png": "[encoded data removed]",
            "text/plain": [
              "<Figure size 432x288 with 1 Axes>"
            ]
          },
          "metadata": {
            "tags": [],
            "needs_background": "light"
          }
        },
        {
          "output_type": "stream",
          "text": [
            "I loved the other movie more than this\n",
            "[0.80576974]\n",
            "\n",
            "\n",
            "that was the best movie I've ever seen\n",
            "[0.6893645]\n",
            "\n",
            "\n",
            "too much of nonsense even for a comedy film\n",
            "[0.05011868]\n",
            "\n",
            "\n",
            "too emotional for an action movie\n",
            "[0.07825635]\n",
            "\n",
            "\n"
          ],
          "name": "stdout"
        }
      ]
    },
    {
      "cell_type": "markdown",
      "metadata": {
        "colab_type": "text",
        "id": "U13JBiJUG1oq"
      },
      "source": [
        "# Add a bidirectional LSTM"
      ]
    },
    {
      "cell_type": "code",
      "metadata": {
        "colab_type": "code",
        "id": "scTUsFPAG4zP",
        "colab": {
          "base_uri": "https://localhost:8080/",
          "height": 1000
        },
        "outputId": "00d87506-bbc3-4774-f345-1a05cc0f526e"
      },
      "source": [
        "num_epochs = 30\n",
        "\n",
        "model_bidi_lstm = tf.keras.Sequential([\n",
        "    tf.keras.layers.Embedding(vocab_size, embedding_dim, input_length=max_length),\n",
        "    tf.keras.layers.Bidirectional(tf.keras.layers.LSTM(embedding_dim)), \n",
        "    tf.keras.layers.Dense(1, activation='sigmoid')\n",
        "])\n",
        "\n",
        "learning_rate = 0.00003\n",
        "model_bidi_lstm.compile(loss='binary_crossentropy',\n",
        "                        optimizer=tf.keras.optimizers.Adam(learning_rate),\n",
        "                        metrics=['accuracy'])\n",
        "fit_model_and_show_results(model_bidi_lstm, new_reviews)"
      ],
      "execution_count": 43,
      "outputs": [
        {
          "output_type": "stream",
          "text": [
            "Model: \"sequential_8\"\n",
            "_________________________________________________________________\n",
            "Layer (type)                 Output Shape              Param #   \n",
            "=================================================================\n",
            "embedding_8 (Embedding)      (None, 50, 16)            64000     \n",
            "_________________________________________________________________\n",
            "bidirectional_5 (Bidirection (None, 32)                4224      \n",
            "_________________________________________________________________\n",
            "dense_8 (Dense)              (None, 1)                 33        \n",
            "=================================================================\n",
            "Total params: 68,257\n",
            "Trainable params: 68,257\n",
            "Non-trainable params: 0\n",
            "_________________________________________________________________\n",
            "Epoch 1/30\n",
            "2105/2105 [==============================] - 19s 9ms/step - loss: 0.6835 - accuracy: 0.5578 - val_loss: 0.7018 - val_accuracy: 0.5092\n",
            "Epoch 2/30\n",
            "2105/2105 [==============================] - 18s 9ms/step - loss: 0.6657 - accuracy: 0.5826 - val_loss: 0.7125 - val_accuracy: 0.5092\n",
            "Epoch 3/30\n",
            "2105/2105 [==============================] - 18s 9ms/step - loss: 0.6223 - accuracy: 0.6515 - val_loss: 0.6320 - val_accuracy: 0.5287\n",
            "Epoch 4/30\n",
            "2105/2105 [==============================] - 18s 9ms/step - loss: 0.5581 - accuracy: 0.7175 - val_loss: 0.5554 - val_accuracy: 0.7420\n",
            "Epoch 5/30\n",
            "2105/2105 [==============================] - 18s 8ms/step - loss: 0.5183 - accuracy: 0.7545 - val_loss: 0.5370 - val_accuracy: 0.7706\n",
            "Epoch 6/30\n",
            "2105/2105 [==============================] - 18s 9ms/step - loss: 0.4882 - accuracy: 0.7753 - val_loss: 0.5489 - val_accuracy: 0.7752\n",
            "Epoch 7/30\n",
            "2105/2105 [==============================] - 18s 8ms/step - loss: 0.4630 - accuracy: 0.7917 - val_loss: 0.5523 - val_accuracy: 0.7626\n",
            "Epoch 8/30\n",
            "2105/2105 [==============================] - 18s 8ms/step - loss: 0.4413 - accuracy: 0.8032 - val_loss: 0.5449 - val_accuracy: 0.7718\n",
            "Epoch 9/30\n",
            "2105/2105 [==============================] - 18s 9ms/step - loss: 0.4221 - accuracy: 0.8126 - val_loss: 0.5747 - val_accuracy: 0.7489\n",
            "Epoch 10/30\n",
            "2105/2105 [==============================] - 18s 9ms/step - loss: 0.4068 - accuracy: 0.8180 - val_loss: 0.6725 - val_accuracy: 0.6583\n",
            "Epoch 11/30\n",
            "2105/2105 [==============================] - 18s 8ms/step - loss: 0.3927 - accuracy: 0.8246 - val_loss: 0.7758 - val_accuracy: 0.6078\n",
            "Epoch 12/30\n",
            "2105/2105 [==============================] - 18s 8ms/step - loss: 0.3808 - accuracy: 0.8292 - val_loss: 0.8377 - val_accuracy: 0.5585\n",
            "Epoch 13/30\n",
            "2105/2105 [==============================] - 18s 8ms/step - loss: 0.3705 - accuracy: 0.8326 - val_loss: 0.9729 - val_accuracy: 0.5011\n",
            "Epoch 14/30\n",
            "2105/2105 [==============================] - 18s 9ms/step - loss: 0.3617 - accuracy: 0.8359 - val_loss: 1.0296 - val_accuracy: 0.4874\n",
            "Epoch 15/30\n",
            "2105/2105 [==============================] - 18s 8ms/step - loss: 0.3539 - accuracy: 0.8384 - val_loss: 1.0546 - val_accuracy: 0.4977\n",
            "Epoch 16/30\n",
            "2105/2105 [==============================] - 18s 8ms/step - loss: 0.3471 - accuracy: 0.8404 - val_loss: 1.1070 - val_accuracy: 0.4805\n",
            "Epoch 17/30\n",
            "2105/2105 [==============================] - 18s 9ms/step - loss: 0.3412 - accuracy: 0.8430 - val_loss: 1.1449 - val_accuracy: 0.4644\n",
            "Epoch 18/30\n",
            "2105/2105 [==============================] - 18s 9ms/step - loss: 0.3360 - accuracy: 0.8444 - val_loss: 1.1238 - val_accuracy: 0.4805\n",
            "Epoch 19/30\n",
            "2105/2105 [==============================] - 18s 9ms/step - loss: 0.3299 - accuracy: 0.8464 - val_loss: 1.0776 - val_accuracy: 0.4633\n",
            "Epoch 20/30\n",
            "2105/2105 [==============================] - 18s 8ms/step - loss: 0.3207 - accuracy: 0.8486 - val_loss: 1.0001 - val_accuracy: 0.4656\n",
            "Epoch 21/30\n",
            "2105/2105 [==============================] - 17s 8ms/step - loss: 0.3157 - accuracy: 0.8503 - val_loss: 0.9683 - val_accuracy: 0.4828\n",
            "Epoch 22/30\n",
            "2105/2105 [==============================] - 17s 8ms/step - loss: 0.3120 - accuracy: 0.8535 - val_loss: 0.9804 - val_accuracy: 0.4897\n",
            "Epoch 23/30\n",
            "2105/2105 [==============================] - 18s 8ms/step - loss: 0.3091 - accuracy: 0.8545 - val_loss: 0.9258 - val_accuracy: 0.4931\n",
            "Epoch 24/30\n",
            "2105/2105 [==============================] - 18s 8ms/step - loss: 0.3066 - accuracy: 0.8550 - val_loss: 0.9196 - val_accuracy: 0.4805\n",
            "Epoch 25/30\n",
            "2105/2105 [==============================] - 17s 8ms/step - loss: 0.3046 - accuracy: 0.8559 - val_loss: 0.8951 - val_accuracy: 0.5103\n",
            "Epoch 26/30\n",
            "2105/2105 [==============================] - 19s 9ms/step - loss: 0.3021 - accuracy: 0.8578 - val_loss: 0.9457 - val_accuracy: 0.4851\n",
            "Epoch 27/30\n",
            "2105/2105 [==============================] - 18s 8ms/step - loss: 0.3002 - accuracy: 0.8577 - val_loss: 0.9020 - val_accuracy: 0.5149\n",
            "Epoch 28/30\n",
            "2105/2105 [==============================] - 18s 8ms/step - loss: 0.2981 - accuracy: 0.8593 - val_loss: 0.8888 - val_accuracy: 0.5057\n",
            "Epoch 29/30\n",
            "2105/2105 [==============================] - 18s 8ms/step - loss: 0.2964 - accuracy: 0.8604 - val_loss: 0.9306 - val_accuracy: 0.4782\n",
            "Epoch 30/30\n",
            "2105/2105 [==============================] - 18s 9ms/step - loss: 0.2943 - accuracy: 0.8615 - val_loss: 0.9170 - val_accuracy: 0.4943\n"
          ],
          "name": "stdout"
        },
        {
          "output_type": "display_data",
          "data": {
            "image/png": "[encoded data removed]",
            "text/plain": [
              "<Figure size 432x288 with 1 Axes>"
            ]
          },
          "metadata": {
            "tags": [],
            "needs_background": "light"
          }
        },
        {
          "output_type": "display_data",
          "data": {
            "image/png": "[encoded data removed]",
            "text/plain": [
              "<Figure size 432x288 with 1 Axes>"
            ]
          },
          "metadata": {
            "tags": [],
            "needs_background": "light"
          }
        },
        {
          "output_type": "stream",
          "text": [
            "I loved the other movie more than this\n",
            "[0.81208456]\n",
            "\n",
            "\n",
            "that was the best movie I've ever seen\n",
            "[0.7652248]\n",
            "\n",
            "\n",
            "too much of nonsense even for a comedy film\n",
            "[0.06981885]\n",
            "\n",
            "\n",
            "too emotional for an action movie\n",
            "[0.06628259]\n",
            "\n",
            "\n"
          ],
          "name": "stdout"
        }
      ]
    },
    {
      "cell_type": "markdown",
      "metadata": {
        "colab_type": "text",
        "id": "QsxKPbCnPJTj"
      },
      "source": [
        "# Use multiple bidirectional LSTMs"
      ]
    },
    {
      "cell_type": "code",
      "metadata": {
        "colab_type": "code",
        "id": "3N6Zul47PMED",
        "colab": {
          "base_uri": "https://localhost:8080/",
          "height": 1000
        },
        "outputId": "1e6973f8-ef3b-469a-cb6a-e59248c826f2"
      },
      "source": [
        "num_epochs = 30\n",
        "\n",
        "model_multiple_bidi_lstm = tf.keras.Sequential([\n",
        "    tf.keras.layers.Embedding(vocab_size, embedding_dim, input_length=max_length),\n",
        "    tf.keras.layers.Bidirectional(tf.keras.layers.LSTM(embedding_dim, \n",
        "                                                       return_sequences=True)),\n",
        "    tf.keras.layers.Bidirectional(tf.keras.layers.LSTM(embedding_dim)),\n",
        "    tf.keras.layers.Dense(1, activation='sigmoid')\n",
        "])\n",
        "\n",
        "learning_rate = 0.0003\n",
        "model_multiple_bidi_lstm.compile(loss='binary_crossentropy',\n",
        "                                 optimizer=tf.keras.optimizers.Adam(learning_rate),\n",
        "                                 metrics=['accuracy'])\n",
        "fit_model_and_show_results(model_multiple_bidi_lstm, new_reviews)"
      ],
      "execution_count": 44,
      "outputs": [
        {
          "output_type": "stream",
          "text": [
            "Model: \"sequential_9\"\n",
            "_________________________________________________________________\n",
            "Layer (type)                 Output Shape              Param #   \n",
            "=================================================================\n",
            "embedding_9 (Embedding)      (None, 50, 16)            64000     \n",
            "_________________________________________________________________\n",
            "bidirectional_6 (Bidirection (None, 50, 32)            4224      \n",
            "_________________________________________________________________\n",
            "bidirectional_7 (Bidirection (None, 32)                6272      \n",
            "_________________________________________________________________\n",
            "dense_9 (Dense)              (None, 1)                 33        \n",
            "=================================================================\n",
            "Total params: 74,529\n",
            "Trainable params: 74,529\n",
            "Non-trainable params: 0\n",
            "_________________________________________________________________\n",
            "Epoch 1/30\n",
            "2105/2105 [==============================] - 31s 15ms/step - loss: 0.4665 - accuracy: 0.7560 - val_loss: 0.8146 - val_accuracy: 0.5264\n",
            "Epoch 2/30\n",
            "2105/2105 [==============================] - 29s 14ms/step - loss: 0.3456 - accuracy: 0.8364 - val_loss: 0.6929 - val_accuracy: 0.5677\n",
            "Epoch 3/30\n",
            "2105/2105 [==============================] - 29s 14ms/step - loss: 0.3276 - accuracy: 0.8437 - val_loss: 0.8987 - val_accuracy: 0.5562\n",
            "Epoch 4/30\n",
            "2105/2105 [==============================] - 29s 14ms/step - loss: 0.3195 - accuracy: 0.8482 - val_loss: 0.6870 - val_accuracy: 0.5677\n",
            "Epoch 5/30\n",
            "2105/2105 [==============================] - 29s 14ms/step - loss: 0.3120 - accuracy: 0.8511 - val_loss: 0.8156 - val_accuracy: 0.6021\n",
            "Epoch 6/30\n",
            "2105/2105 [==============================] - 29s 14ms/step - loss: 0.3052 - accuracy: 0.8538 - val_loss: 0.7145 - val_accuracy: 0.6067\n",
            "Epoch 7/30\n",
            "2105/2105 [==============================] - 29s 14ms/step - loss: 0.2970 - accuracy: 0.8581 - val_loss: 0.8652 - val_accuracy: 0.6583\n",
            "Epoch 8/30\n",
            "2105/2105 [==============================] - 29s 14ms/step - loss: 0.2860 - accuracy: 0.8633 - val_loss: 0.7470 - val_accuracy: 0.6548\n",
            "Epoch 9/30\n",
            "2105/2105 [==============================] - 29s 14ms/step - loss: 0.2733 - accuracy: 0.8687 - val_loss: 0.8265 - val_accuracy: 0.6548\n",
            "Epoch 10/30\n",
            "2105/2105 [==============================] - 28s 14ms/step - loss: 0.2618 - accuracy: 0.8733 - val_loss: 0.7643 - val_accuracy: 0.6594\n",
            "Epoch 11/30\n",
            "2105/2105 [==============================] - 28s 13ms/step - loss: 0.2506 - accuracy: 0.8783 - val_loss: 0.7682 - val_accuracy: 0.6732\n",
            "Epoch 12/30\n",
            "2105/2105 [==============================] - 29s 14ms/step - loss: 0.2411 - accuracy: 0.8830 - val_loss: 0.7996 - val_accuracy: 0.6674\n",
            "Epoch 13/30\n",
            "2105/2105 [==============================] - 28s 13ms/step - loss: 0.2327 - accuracy: 0.8850 - val_loss: 0.8305 - val_accuracy: 0.6560\n",
            "Epoch 14/30\n",
            "2105/2105 [==============================] - 29s 14ms/step - loss: 0.2253 - accuracy: 0.8886 - val_loss: 0.8418 - val_accuracy: 0.6686\n",
            "Epoch 15/30\n",
            "2105/2105 [==============================] - 28s 13ms/step - loss: 0.2181 - accuracy: 0.8911 - val_loss: 0.9037 - val_accuracy: 0.6617\n",
            "Epoch 16/30\n",
            "2105/2105 [==============================] - 28s 13ms/step - loss: 0.2112 - accuracy: 0.8930 - val_loss: 0.9454 - val_accuracy: 0.6766\n",
            "Epoch 17/30\n",
            "2105/2105 [==============================] - 29s 14ms/step - loss: 0.2048 - accuracy: 0.8948 - val_loss: 0.8457 - val_accuracy: 0.6411\n",
            "Epoch 18/30\n",
            "2105/2105 [==============================] - 28s 13ms/step - loss: 0.1991 - accuracy: 0.8970 - val_loss: 0.8764 - val_accuracy: 0.6686\n",
            "Epoch 19/30\n",
            "2105/2105 [==============================] - 29s 14ms/step - loss: 0.1943 - accuracy: 0.8986 - val_loss: 0.9173 - val_accuracy: 0.6537\n",
            "Epoch 20/30\n",
            "2105/2105 [==============================] - 28s 13ms/step - loss: 0.1897 - accuracy: 0.8994 - val_loss: 0.9884 - val_accuracy: 0.6433\n",
            "Epoch 21/30\n",
            "2105/2105 [==============================] - 28s 14ms/step - loss: 0.1863 - accuracy: 0.9017 - val_loss: 0.8978 - val_accuracy: 0.6766\n",
            "Epoch 22/30\n",
            "2105/2105 [==============================] - 28s 13ms/step - loss: 0.1837 - accuracy: 0.9018 - val_loss: 0.9715 - val_accuracy: 0.6571\n",
            "Epoch 23/30\n",
            "2105/2105 [==============================] - 29s 14ms/step - loss: 0.1794 - accuracy: 0.9036 - val_loss: 0.9980 - val_accuracy: 0.6606\n",
            "Epoch 24/30\n",
            "2105/2105 [==============================] - 29s 14ms/step - loss: 0.1745 - accuracy: 0.9056 - val_loss: 0.9832 - val_accuracy: 0.6606\n",
            "Epoch 25/30\n",
            "2105/2105 [==============================] - 29s 14ms/step - loss: 0.1742 - accuracy: 0.9060 - val_loss: 1.0739 - val_accuracy: 0.6330\n",
            "Epoch 26/30\n",
            "2105/2105 [==============================] - 29s 14ms/step - loss: 0.1711 - accuracy: 0.9070 - val_loss: 0.9174 - val_accuracy: 0.6651\n",
            "Epoch 27/30\n",
            "2105/2105 [==============================] - 29s 14ms/step - loss: 0.1688 - accuracy: 0.9089 - val_loss: 1.1100 - val_accuracy: 0.6365\n",
            "Epoch 28/30\n",
            "2105/2105 [==============================] - 29s 14ms/step - loss: 0.1652 - accuracy: 0.9086 - val_loss: 1.0466 - val_accuracy: 0.6376\n",
            "Epoch 29/30\n",
            "2105/2105 [==============================] - 29s 14ms/step - loss: 0.1628 - accuracy: 0.9105 - val_loss: 1.0455 - val_accuracy: 0.6101\n",
            "Epoch 30/30\n",
            "2105/2105 [==============================] - 29s 14ms/step - loss: 0.1611 - accuracy: 0.9119 - val_loss: 1.0913 - val_accuracy: 0.6514\n"
          ],
          "name": "stdout"
        },
        {
          "output_type": "display_data",
          "data": {
            "image/png": "[encoded data removed]",
            "text/plain": [
              "<Figure size 432x288 with 1 Axes>"
            ]
          },
          "metadata": {
            "tags": [],
            "needs_background": "light"
          }
        },
        {
          "output_type": "display_data",
          "data": {
            "image/png": "[encoded data removed]",
            "text/plain": [
              "<Figure size 432x288 with 1 Axes>"
            ]
          },
          "metadata": {
            "tags": [],
            "needs_background": "light"
          }
        },
        {
          "output_type": "stream",
          "text": [
            "I loved the other movie more than this\n",
            "[0.9913874]\n",
            "\n",
            "\n",
            "that was the best movie I've ever seen\n",
            "[0.98994267]\n",
            "\n",
            "\n",
            "too much of nonsense even for a comedy film\n",
            "[0.00017585]\n",
            "\n",
            "\n",
            "too emotional for an action movie\n",
            "[0.00998489]\n",
            "\n",
            "\n"
          ],
          "name": "stdout"
        }
      ]
    },
    {
      "cell_type": "markdown",
      "metadata": {
        "colab_type": "text",
        "id": "gdN2tdW4YYJ1"
      },
      "source": [
        "# Try some more reviews"
      ]
    },
    {
      "cell_type": "code",
      "metadata": {
        "colab_type": "code",
        "id": "e45UQxQl_QAI",
        "colab": {}
      },
      "source": [
        "# Write some new reviews \n",
        "\n",
        "review1 = \"\"\"I loved this movie\"\"\"\n",
        "\n",
        "review2 = \"\"\"that was the worst movie I've ever seen\"\"\"\n",
        "\n",
        "review3 = \"\"\"too much violence even for a Bond film\"\"\"\n",
        "\n",
        "review4 = \"\"\"a captivating recounting of a cherished myth\"\"\"\n",
        "\n",
        "review5 = \"\"\"I saw this movie yesterday and I was feeling low to start with,\n",
        " but it was such a wonderful movie that it lifted my spirits and brightened \n",
        " my day, you can\\'t go wrong with a movie with Whoopi Goldberg in it.\"\"\"\n",
        "\n",
        "review6 = \"\"\"I don\\'t understand why it received an oscar recommendation\n",
        " for best movie, it was long and boring\"\"\"\n",
        "\n",
        "review7 = \"\"\"the scenery was magnificent, the CGI of the dogs was so realistic I\n",
        " thought they were played by real dogs even though they talked!\"\"\"\n",
        "\n",
        "review8 = \"\"\"The ending was so sad and yet so uplifting at the same time. \n",
        " I'm looking for an excuse to see it again\"\"\"\n",
        "\n",
        "review9 = \"\"\"I had expected so much more from a movie made by the director \n",
        " who made my most favorite movie ever, I was very disappointed in the tedious \n",
        " story\"\"\"\n",
        "\n",
        "review10 = \"I wish I could watch this movie every day for the rest of my life\"\n",
        "\n",
        "more_reviews = [review1, review2, review3, review4, review5, review6, review7, \n",
        "               review8, review9, review10]\n"
      ],
      "execution_count": 45,
      "outputs": []
    },
    {
      "cell_type": "code",
      "metadata": {
        "colab_type": "code",
        "id": "cQ4YZHOjYXQ2",
        "colab": {
          "base_uri": "https://localhost:8080/",
          "height": 884
        },
        "outputId": "d728bb8e-4c2b-4425-81eb-254ab1a9a5da"
      },
      "source": [
        "print(\"============================\\n\",\"Embeddings only:\\n\", \"============================\")\n",
        "predict_review(model, more_reviews)"
      ],
      "execution_count": 46,
      "outputs": [
        {
          "output_type": "stream",
          "text": [
            "============================\n",
            " Embeddings only:\n",
            " ============================\n",
            "I loved this movie\n",
            "[0.93564194]\n",
            "\n",
            "\n",
            "that was the worst movie I've ever seen\n",
            "[0.00482019]\n",
            "\n",
            "\n",
            "too much violence even for a Bond film\n",
            "[0.04130644]\n",
            "\n",
            "\n",
            "a captivating recounting of a cherished myth\n",
            "[0.9147912]\n",
            "\n",
            "\n",
            "I saw this movie yesterday and I was feeling low to start with,\n",
            " but it was such a wonderful movie that it lifted my spirits and brightened \n",
            " my day, you can't go wrong with a movie with Whoopi Goldberg in it.\n",
            "[0.9599217]\n",
            "\n",
            "\n",
            "I don't understand why it received an oscar recommendation\n",
            " for best movie, it was long and boring\n",
            "[0.9946009]\n",
            "\n",
            "\n",
            "the scenery was magnificent, the CGI of the dogs was so realistic I\n",
            " thought they were played by real dogs even though they talked!\n",
            "[0.41208076]\n",
            "\n",
            "\n",
            "The ending was so sad and yet so uplifting at the same time. \n",
            " I'm looking for an excuse to see it again\n",
            "[0.6280444]\n",
            "\n",
            "\n",
            "I had expected so much more from a movie made by the director \n",
            " who made my most favorite movie ever, I was very disappointed in the tedious \n",
            " story\n",
            "[0.00012474]\n",
            "\n",
            "\n",
            "I wish I could watch this movie every day for the rest of my life\n",
            "[0.27117696]\n",
            "\n",
            "\n"
          ],
          "name": "stdout"
        }
      ]
    },
    {
      "cell_type": "code",
      "metadata": {
        "colab_type": "code",
        "id": "NI04noTAHK5t",
        "colab": {
          "base_uri": "https://localhost:8080/",
          "height": 884
        },
        "outputId": "5828bc63-22ae-4221-f75b-d38a77f6fa4a"
      },
      "source": [
        "print(\"============================\\n\",\"With CNN\\n\", \"============================\")\n",
        "predict_review(model_cnn, more_reviews)"
      ],
      "execution_count": 47,
      "outputs": [
        {
          "output_type": "stream",
          "text": [
            "============================\n",
            " With CNN\n",
            " ============================\n",
            "I loved this movie\n",
            "[0.9984994]\n",
            "\n",
            "\n",
            "that was the worst movie I've ever seen\n",
            "[0.00013882]\n",
            "\n",
            "\n",
            "too much violence even for a Bond film\n",
            "[0.05010544]\n",
            "\n",
            "\n",
            "a captivating recounting of a cherished myth\n",
            "[0.9403805]\n",
            "\n",
            "\n",
            "I saw this movie yesterday and I was feeling low to start with,\n",
            " but it was such a wonderful movie that it lifted my spirits and brightened \n",
            " my day, you can't go wrong with a movie with Whoopi Goldberg in it.\n",
            "[0.90748924]\n",
            "\n",
            "\n",
            "I don't understand why it received an oscar recommendation\n",
            " for best movie, it was long and boring\n",
            "[0.99995387]\n",
            "\n",
            "\n",
            "the scenery was magnificent, the CGI of the dogs was so realistic I\n",
            " thought they were played by real dogs even though they talked!\n",
            "[0.879283]\n",
            "\n",
            "\n",
            "The ending was so sad and yet so uplifting at the same time. \n",
            " I'm looking for an excuse to see it again\n",
            "[0.9999536]\n",
            "\n",
            "\n",
            "I had expected so much more from a movie made by the director \n",
            " who made my most favorite movie ever, I was very disappointed in the tedious \n",
            " story\n",
            "[0.01187014]\n",
            "\n",
            "\n",
            "I wish I could watch this movie every day for the rest of my life\n",
            "[0.3658879]\n",
            "\n",
            "\n"
          ],
          "name": "stdout"
        }
      ]
    },
    {
      "cell_type": "code",
      "metadata": {
        "colab_type": "code",
        "id": "vGJ32sRUHNu6",
        "colab": {
          "base_uri": "https://localhost:8080/",
          "height": 884
        },
        "outputId": "3e1e2986-821c-4412-ae9b-80cc791f59ea"
      },
      "source": [
        "print(\"===========================\\n\",\"With bidirectional GRU\\n\", \"============================\")\n",
        "predict_review(model_gru, more_reviews)"
      ],
      "execution_count": 48,
      "outputs": [
        {
          "output_type": "stream",
          "text": [
            "===========================\n",
            " With bidirectional GRU\n",
            " ============================\n",
            "I loved this movie\n",
            "[0.91332126]\n",
            "\n",
            "\n",
            "that was the worst movie I've ever seen\n",
            "[0.00475106]\n",
            "\n",
            "\n",
            "too much violence even for a Bond film\n",
            "[0.03120645]\n",
            "\n",
            "\n",
            "a captivating recounting of a cherished myth\n",
            "[0.76523906]\n",
            "\n",
            "\n",
            "I saw this movie yesterday and I was feeling low to start with,\n",
            " but it was such a wonderful movie that it lifted my spirits and brightened \n",
            " my day, you can't go wrong with a movie with Whoopi Goldberg in it.\n",
            "[0.9784032]\n",
            "\n",
            "\n",
            "I don't understand why it received an oscar recommendation\n",
            " for best movie, it was long and boring\n",
            "[0.68355095]\n",
            "\n",
            "\n",
            "the scenery was magnificent, the CGI of the dogs was so realistic I\n",
            " thought they were played by real dogs even though they talked!\n",
            "[0.05760221]\n",
            "\n",
            "\n",
            "The ending was so sad and yet so uplifting at the same time. \n",
            " I'm looking for an excuse to see it again\n",
            "[0.10081544]\n",
            "\n",
            "\n",
            "I had expected so much more from a movie made by the director \n",
            " who made my most favorite movie ever, I was very disappointed in the tedious \n",
            " story\n",
            "[0.08193413]\n",
            "\n",
            "\n",
            "I wish I could watch this movie every day for the rest of my life\n",
            "[0.16612805]\n",
            "\n",
            "\n"
          ],
          "name": "stdout"
        }
      ]
    },
    {
      "cell_type": "code",
      "metadata": {
        "colab_type": "code",
        "id": "IFw9Q0iQHP2P",
        "colab": {
          "base_uri": "https://localhost:8080/",
          "height": 884
        },
        "outputId": "96a67482-c3a5-4cb8-9839-6a7d49bb0320"
      },
      "source": [
        "print(\"===========================\\n\", \"With a single bidirectional LSTM:\\n\", \"===========================\")\n",
        "predict_review(model_bidi_lstm, more_reviews)"
      ],
      "execution_count": 49,
      "outputs": [
        {
          "output_type": "stream",
          "text": [
            "===========================\n",
            " With a single bidirectional LSTM:\n",
            " ===========================\n",
            "I loved this movie\n",
            "[0.94778234]\n",
            "\n",
            "\n",
            "that was the worst movie I've ever seen\n",
            "[0.01649025]\n",
            "\n",
            "\n",
            "too much violence even for a Bond film\n",
            "[0.06360678]\n",
            "\n",
            "\n",
            "a captivating recounting of a cherished myth\n",
            "[0.73745865]\n",
            "\n",
            "\n",
            "I saw this movie yesterday and I was feeling low to start with,\n",
            " but it was such a wonderful movie that it lifted my spirits and brightened \n",
            " my day, you can't go wrong with a movie with Whoopi Goldberg in it.\n",
            "[0.97388726]\n",
            "\n",
            "\n",
            "I don't understand why it received an oscar recommendation\n",
            " for best movie, it was long and boring\n",
            "[0.48348778]\n",
            "\n",
            "\n",
            "the scenery was magnificent, the CGI of the dogs was so realistic I\n",
            " thought they were played by real dogs even though they talked!\n",
            "[0.07408796]\n",
            "\n",
            "\n",
            "The ending was so sad and yet so uplifting at the same time. \n",
            " I'm looking for an excuse to see it again\n",
            "[0.3122338]\n",
            "\n",
            "\n",
            "I had expected so much more from a movie made by the director \n",
            " who made my most favorite movie ever, I was very disappointed in the tedious \n",
            " story\n",
            "[0.05828271]\n",
            "\n",
            "\n",
            "I wish I could watch this movie every day for the rest of my life\n",
            "[0.20224659]\n",
            "\n",
            "\n"
          ],
          "name": "stdout"
        }
      ]
    },
    {
      "cell_type": "code",
      "metadata": {
        "colab_type": "code",
        "id": "zaw7fEVQHSWK",
        "colab": {
          "base_uri": "https://localhost:8080/",
          "height": 884
        },
        "outputId": "b8e75def-f522-4b95-fa35-e95ea2e0881f"
      },
      "source": [
        "print(\"===========================\\n\", \"With multiple bidirectional LSTM:\\n\", \"==========================\")\n",
        "predict_review(model_multiple_bidi_lstm, more_reviews)"
      ],
      "execution_count": 50,
      "outputs": [
        {
          "output_type": "stream",
          "text": [
            "===========================\n",
            " With multiple bidirectional LSTM:\n",
            " ==========================\n",
            "I loved this movie\n",
            "[0.9970585]\n",
            "\n",
            "\n",
            "that was the worst movie I've ever seen\n",
            "[0.0005719]\n",
            "\n",
            "\n",
            "too much violence even for a Bond film\n",
            "[0.00023752]\n",
            "\n",
            "\n",
            "a captivating recounting of a cherished myth\n",
            "[0.99791425]\n",
            "\n",
            "\n",
            "I saw this movie yesterday and I was feeling low to start with,\n",
            " but it was such a wonderful movie that it lifted my spirits and brightened \n",
            " my day, you can't go wrong with a movie with Whoopi Goldberg in it.\n",
            "[0.40948093]\n",
            "\n",
            "\n",
            "I don't understand why it received an oscar recommendation\n",
            " for best movie, it was long and boring\n",
            "[0.99998]\n",
            "\n",
            "\n",
            "the scenery was magnificent, the CGI of the dogs was so realistic I\n",
            " thought they were played by real dogs even though they talked!\n",
            "[0.01199822]\n",
            "\n",
            "\n",
            "The ending was so sad and yet so uplifting at the same time. \n",
            " I'm looking for an excuse to see it again\n",
            "[0.99995816]\n",
            "\n",
            "\n",
            "I had expected so much more from a movie made by the director \n",
            " who made my most favorite movie ever, I was very disappointed in the tedious \n",
            " story\n",
            "[0.00116938]\n",
            "\n",
            "\n",
            "I wish I could watch this movie every day for the rest of my life\n",
            "[0.997781]\n",
            "\n",
            "\n"
          ],
          "name": "stdout"
        }
      ]
    }
  ]
}